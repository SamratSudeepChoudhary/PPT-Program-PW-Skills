{
  "nbformat": 4,
  "nbformat_minor": 0,
  "metadata": {
    "colab": {
      "provenance": []
    },
    "kernelspec": {
      "name": "python3",
      "display_name": "Python 3"
    },
    "language_info": {
      "name": "python"
    }
  },
  "cells": [
    {
      "cell_type": "code",
      "execution_count": 17,
      "metadata": {
        "id": "utlAAamPj0XM"
      },
      "outputs": [],
      "source": [
        "from IPython.core.interactiveshell import InteractiveShell\n",
        "InteractiveShell.ast_node_interactivity = \"all\""
      ]
    },
    {
      "cell_type": "markdown",
      "source": [
        "<aside>\n",
        "💡 **Question 1**\n",
        "\n",
        "Given two strings s1 and s2, return *the lowest **ASCII** sum of deleted characters to make two strings equal*.\n",
        "\n",
        "**Example 1:**\n",
        "\n",
        "**Input:** s1 = \"sea\", s2 = \"eat\"\n",
        "\n",
        "**Output:** 231\n",
        "\n",
        "**Explanation:** Deleting \"s\" from \"sea\" adds the ASCII value of \"s\" (115) to the sum.\n",
        "\n",
        "Deleting \"t\" from \"eat\" adds 116 to the sum.\n",
        "\n",
        "At the end, both strings are equal, and 115 + 116 = 231 is the minimum sum possible to achieve this.\n",
        "\n",
        "</aside>"
      ],
      "metadata": {
        "id": "cMOS5JBej-T2"
      }
    },
    {
      "cell_type": "code",
      "source": [
        "def minimumDeleteSum(s1, s2):\n",
        "    def dp(i, j):\n",
        "        if i == len(s1) and j == len(s2):\n",
        "            return 0\n",
        "        if i == len(s1):\n",
        "            return sum(ord(c) for c in s2[j:])\n",
        "        if j == len(s2):\n",
        "            return sum(ord(c) for c in s1[i:])\n",
        "\n",
        "        if s1[i] == s2[j]:\n",
        "            return dp(i + 1, j + 1)\n",
        "\n",
        "        return min(ord(s1[i]) + dp(i + 1, j), ord(s2[j]) + dp(i, j + 1))\n",
        "\n",
        "    return dp(0, 0)\n",
        "\n",
        "# Example usage:\n",
        "s1 = \"sea\"\n",
        "s2 = \"eat\"\n",
        "result = minimumDeleteSum(s1, s2)\n",
        "print(result)\n"
      ],
      "metadata": {
        "colab": {
          "base_uri": "https://localhost:8080/"
        },
        "id": "Cazz5mV-j2c_",
        "outputId": "b4e37f5c-6b06-4fd1-cb8d-6016f23391cd"
      },
      "execution_count": 4,
      "outputs": [
        {
          "output_type": "stream",
          "name": "stdout",
          "text": [
            "231\n"
          ]
        }
      ]
    },
    {
      "cell_type": "markdown",
      "source": [
        "<aside>\n",
        "💡 **Question 2**\n",
        "\n",
        "Given a string s containing only three types of characters: '(', ')' and '*', return true *if* s *is **valid***.\n",
        "\n",
        "The following rules define a **valid** string:\n",
        "\n",
        "- Any left parenthesis '(' must have a corresponding right parenthesis ')'.\n",
        "- Any right parenthesis ')' must have a corresponding left parenthesis '('.\n",
        "- Left parenthesis '(' must go before the corresponding right parenthesis ')'.\n",
        "- '*' could be treated as a single right parenthesis ')' or a single left parenthesis '(' or an empty string \"\".\n",
        "\n",
        "**Example 1:**\n",
        "\n",
        "**Input:** s = \"()\"\n",
        "\n",
        "**Output:**\n",
        "\n",
        "true\n",
        "\n",
        "</aside>"
      ],
      "metadata": {
        "id": "khhFFDs0lIjE"
      }
    },
    {
      "cell_type": "code",
      "source": [
        "def isValid(s):\n",
        "    def helper(s, balance):\n",
        "        if not s:\n",
        "            return balance == 0\n",
        "\n",
        "        if s[0] == '(':\n",
        "            return helper(s[1:], balance + 1)\n",
        "        elif s[0] == ')':\n",
        "            return balance > 0 and helper(s[1:], balance - 1)\n",
        "        else:\n",
        "            # Treat '*' as '(' or ')' or empty string\n",
        "            return helper(s[1:], balance + 1) or helper(s[1:], balance - 1) or helper(s[1:], balance)\n",
        "\n",
        "    return helper(s, 0)\n",
        "\n",
        "# Example usage:\n",
        "s = \"()\"  # Example input\n",
        "result = isValid(s)\n",
        "print(result)\n"
      ],
      "metadata": {
        "colab": {
          "base_uri": "https://localhost:8080/"
        },
        "id": "KTK7r0ydkhIw",
        "outputId": "bcae280b-eaab-493d-8ccb-5f77380f357c"
      },
      "execution_count": 5,
      "outputs": [
        {
          "output_type": "stream",
          "name": "stdout",
          "text": [
            "True\n"
          ]
        }
      ]
    },
    {
      "cell_type": "markdown",
      "source": [
        "<aside>\n",
        "💡 **Question 3**\n",
        "\n",
        "Given two strings word1 and word2, return *the minimum number of **steps** required to make* word1 *and* word2 *the same*.\n",
        "\n",
        "In one **step**, you can delete exactly one character in either string.\n",
        "\n",
        "**Example 1:**\n",
        "\n",
        "**Input:** word1 = \"sea\", word2 = \"eat\"\n",
        "\n",
        "**Output:** 2\n",
        "\n",
        "**Explanation:** You need one step to make \"sea\" to \"ea\" and another step to make \"eat\" to \"ea\".\n",
        "\n",
        "</aside>"
      ],
      "metadata": {
        "id": "L_LOAEEDlNGq"
      }
    },
    {
      "cell_type": "code",
      "source": [
        "def minDistance(word1, word2):\n",
        "    def helper(i, j):\n",
        "        if i == len(word1):\n",
        "            return len(word2) - j\n",
        "        if j == len(word2):\n",
        "            return len(word1) - i\n",
        "\n",
        "        if word1[i] == word2[j]:\n",
        "            return helper(i + 1, j + 1)\n",
        "        else:\n",
        "            delete_word1 = 1 + helper(i + 1, j)\n",
        "            delete_word2 = 1 + helper(i, j + 1)\n",
        "            return min(delete_word1, delete_word2)\n",
        "\n",
        "    return helper(0, 0)\n",
        "\n",
        "# Example usage:\n",
        "word1 = \"sea\"  # Example input\n",
        "word2 = \"eat\"  # Example input\n",
        "result = minDistance(word1, word2)\n",
        "print(result)\n"
      ],
      "metadata": {
        "colab": {
          "base_uri": "https://localhost:8080/"
        },
        "id": "MIIfohGEko4p",
        "outputId": "7abfdaa2-8b1d-42fc-899f-641ace7b5d20"
      },
      "execution_count": 6,
      "outputs": [
        {
          "output_type": "stream",
          "name": "stdout",
          "text": [
            "2\n"
          ]
        }
      ]
    },
    {
      "cell_type": "markdown",
      "source": [],
      "metadata": {
        "id": "4nLt5v6dlvPR"
      }
    },
    {
      "cell_type": "code",
      "source": [
        "class TreeNode:\n",
        "    def __init__(self, val=0, left=None, right=None):\n",
        "        self.val = val\n",
        "        self.left = left\n",
        "        self.right = right\n",
        "\n",
        "def str2tree(s):\n",
        "    if not s:\n",
        "        return None\n",
        "\n",
        "    # Find the index of the first '('\n",
        "    i = 0\n",
        "    while i < len(s) and (s[i] != '(' and s[i] != ')'):\n",
        "        i += 1\n",
        "\n",
        "    # Create the root node\n",
        "    root_val = int(s[:i])\n",
        "    root = TreeNode(root_val)\n",
        "\n",
        "    if i == len(s):\n",
        "        return root\n",
        "\n",
        "    # Find the substring representing the left subtree\n",
        "    left_start = i\n",
        "    left_end = find_matching_parenthesis(s, i)\n",
        "    root.left = str2tree(s[left_start+1:left_end])\n",
        "\n",
        "    if left_end == len(s):\n",
        "        return root\n",
        "\n",
        "    # Find the substring representing the right subtree\n",
        "    right_start = left_end + 1\n",
        "    right_end = len(s) - 1\n",
        "    root.right = str2tree(s[right_start+1:right_end])\n",
        "\n",
        "    return root\n",
        "\n",
        "def find_matching_parenthesis(s, start):\n",
        "    count = 0\n",
        "    for i in range(start, len(s)):\n",
        "        if s[i] == '(':\n",
        "            count += 1\n",
        "        elif s[i] == ')':\n",
        "            count -= 1\n",
        "            if count == 0:\n",
        "                return i\n",
        "    return -1\n",
        "\n",
        "# Example usage:\n",
        "s = \"4(2(3)(1))(6(5))\"  # Example input\n",
        "root = str2tree(s)\n",
        "result = []\n",
        "def inorder_traversal(node):\n",
        "    if node:\n",
        "        inorder_traversal(node.left)\n",
        "        result.append(node.val)\n",
        "        inorder_traversal(node.right)\n",
        "inorder_traversal(root)\n",
        "print(result)\n"
      ],
      "metadata": {
        "colab": {
          "base_uri": "https://localhost:8080/"
        },
        "id": "5SCQ4dqKlcKV",
        "outputId": "562b0547-c2e3-44a9-e7d6-efda90efc7a0"
      },
      "execution_count": 7,
      "outputs": [
        {
          "output_type": "stream",
          "name": "stdout",
          "text": [
            "[3, 2, 1, 4, 5, 6]\n"
          ]
        }
      ]
    },
    {
      "cell_type": "markdown",
      "source": [
        "<aside>\n",
        "💡 **Question 4**\n",
        "\n",
        "You need to construct a binary tree from a string consisting of parenthesis and integers.\n",
        "\n",
        "The whole input represents a binary tree. It contains an integer followed by zero, one or two pairs of parenthesis. The integer represents the root's value and a pair of parenthesis contains a child binary tree with the same structure.\n",
        "You always start to construct the **left** child node of the parent first if it exists.\n",
        "\n",
        "**Input:** s = \"4(2(3)(1))(6(5))\"\n",
        "\n",
        "**Output:** [4,2,6,3,1,5]\n",
        "\n",
        "</aside>"
      ],
      "metadata": {
        "id": "SoR0mjSpl2dW"
      }
    },
    {
      "cell_type": "code",
      "source": [
        "\n",
        "class Node:\n",
        "    def __init__(self, val=None, left=None, right=None):\n",
        "        self.val = val\n",
        "        self.left = left\n",
        "        self.right = right\n",
        "\n",
        "def str2tree(s):\n",
        "    if not s:\n",
        "        return None\n",
        "    i = 0\n",
        "    while i < len(s) and (s[i].isdigit() or s[i] == '-'):\n",
        "        i += 1\n",
        "    root = Node(int(s[:i]))\n",
        "    if i < len(s):\n",
        "        j, cnt = i, 1\n",
        "        while j < len(s) and cnt:\n",
        "            j += 1\n",
        "            if s[j] == '(':\n",
        "                cnt += 1\n",
        "            elif s[j] == ')':\n",
        "                cnt -= 1\n",
        "        root.left = str2tree(s[i+1:j])\n",
        "        root.right = str2tree(s[j+2:-1])\n",
        "    return root\n",
        "\n",
        "def inorder(root):\n",
        "    if not root:\n",
        "        return []\n",
        "    return inorder(root.left) + [root.val] + inorder(root.right)\n",
        "\n",
        "s = \"4(2(3)(1))(6(5))\"\n",
        "root = str2tree(s)\n",
        "print(inorder(root))\n"
      ],
      "metadata": {
        "colab": {
          "base_uri": "https://localhost:8080/"
        },
        "id": "JJKirmZrl0i4",
        "outputId": "14c83386-0350-491b-85c2-d414e0dff9f9"
      },
      "execution_count": 12,
      "outputs": [
        {
          "output_type": "stream",
          "name": "stdout",
          "text": [
            "[3, 2, 1, 4, 5, 6]\n"
          ]
        }
      ]
    },
    {
      "cell_type": "markdown",
      "source": [
        "<aside>\n",
        "💡 **Question 5**\n",
        "\n",
        "Given an array of characters chars, compress it using the following algorithm:\n",
        "\n",
        "Begin with an empty string s. For each group of **consecutive repeating characters** in chars:\n",
        "\n",
        "- If the group's length is 1, append the character to s.\n",
        "- Otherwise, append the character followed by the group's length.\n",
        "\n",
        "The compressed string s **should not be returned separately**, but instead, be stored **in the input character array chars**. Note that group lengths that are 10 or longer will be split into multiple characters in chars.\n",
        "\n",
        "After you are done **modifying the input array,** return *the new length of the array*.\n",
        "\n",
        "You must write an algorithm that uses only constant extra space.\n",
        "\n",
        "**Example 1:**\n",
        "\n",
        "**Input:** chars = [\"a\",\"a\",\"b\",\"b\",\"c\",\"c\",\"c\"]\n",
        "\n",
        "**Output:** Return 6, and the first 6 characters of the input array should be: [\"a\",\"2\",\"b\",\"2\",\"c\",\"3\"]\n",
        "\n",
        "**Explanation:**\n",
        "\n",
        "The groups are \"aa\", \"bb\", and \"ccc\". This compresses to \"a2b2c3\".\n",
        "\n",
        "</aside>"
      ],
      "metadata": {
        "id": "QqwRYko5nDOx"
      }
    },
    {
      "cell_type": "code",
      "source": [
        "def compress(chars):\n",
        "    write_index = 0  # index to write compressed characters\n",
        "    count = 1  # count of consecutive repeating characters\n",
        "\n",
        "    for i in range(1, len(chars)):\n",
        "        if chars[i] == chars[i - 1]:\n",
        "            count += 1\n",
        "        else:\n",
        "            chars[write_index] = chars[i - 1]\n",
        "            write_index += 1\n",
        "\n",
        "            if count > 1:\n",
        "                count_str = str(count)\n",
        "                for j in range(len(count_str)):\n",
        "                    chars[write_index] = count_str[j]\n",
        "                    write_index += 1\n",
        "\n",
        "            count = 1\n",
        "\n",
        "    chars[write_index] = chars[-1]\n",
        "    write_index += 1\n",
        "\n",
        "    if count > 1:\n",
        "        count_str = str(count)\n",
        "        for j in range(len(count_str)):\n",
        "            chars[write_index] = count_str[j]\n",
        "            write_index += 1\n",
        "\n",
        "    return write_index\n",
        "\n",
        "\n",
        "# Example usage:\n",
        "chars = [\"a\", \"a\", \"b\", \"b\", \"c\", \"c\", \"c\"]  # Example input\n",
        "length = compress(chars)\n",
        "print(length)\n",
        "print(chars[:length])\n"
      ],
      "metadata": {
        "colab": {
          "base_uri": "https://localhost:8080/"
        },
        "id": "CqN2Ya0Xl_OS",
        "outputId": "3c0c880b-a3a1-4b0a-9af4-95b279d153ac"
      },
      "execution_count": 13,
      "outputs": [
        {
          "output_type": "stream",
          "name": "stdout",
          "text": [
            "6\n",
            "['a', '2', 'b', '2', 'c', '3']\n"
          ]
        }
      ]
    },
    {
      "cell_type": "markdown",
      "source": [
        "<aside>\n",
        "💡 **Question 6**\n",
        "\n",
        "Given two strings s and p, return *an array of all the start indices of* p*'s anagrams in* s. You may return the answer in **any order**.\n",
        "\n",
        "An **Anagram** is a word or phrase formed by rearranging the letters of a different word or phrase, typically using all the original letters exactly once.\n",
        "\n",
        "**Example 1:**\n",
        "\n",
        "**Input:** s = \"cbaebabacd\", p = \"abc\"\n",
        "\n",
        "**Output:** [0,6]\n",
        "\n",
        "**Explanation:**\n",
        "\n",
        "The substring with start index = 0 is \"cba\", which is an anagram of \"abc\".\n",
        "\n",
        "The substring with start index = 6 is \"bac\", which is an anagram of \"abc\".\n",
        "\n",
        "</aside>"
      ],
      "metadata": {
        "id": "HYzBEv0tnImm"
      }
    },
    {
      "cell_type": "code",
      "source": [
        "from collections import Counter\n",
        "\n",
        "def findAnagrams(s, p):\n",
        "    result = []\n",
        "    p_counter = Counter(p)\n",
        "    s_counter = Counter(s[:len(p)])\n",
        "\n",
        "    if s_counter == p_counter:\n",
        "        result.append(0)\n",
        "\n",
        "    for i in range(len(p), len(s)):\n",
        "        if s_counter[s[i - len(p)]] == 1:\n",
        "            del s_counter[s[i - len(p)]]\n",
        "        else:\n",
        "            s_counter[s[i - len(p)]] -= 1\n",
        "\n",
        "        s_counter[s[i]] += 1\n",
        "\n",
        "        if s_counter == p_counter:\n",
        "            result.append(i - len(p) + 1)\n",
        "\n",
        "    return result\n",
        "\n",
        "\n",
        "# Example usage:\n",
        "s = \"cbaebabacd\"  # Example input string\n",
        "p = \"abc\"  # Anagram pattern\n",
        "indices = findAnagrams(s, p)\n",
        "print(indices)\n"
      ],
      "metadata": {
        "colab": {
          "base_uri": "https://localhost:8080/"
        },
        "id": "9xciKVAynFx-",
        "outputId": "e1c4ca3c-2cc5-444d-8c23-e2e470e2f61d"
      },
      "execution_count": 14,
      "outputs": [
        {
          "output_type": "stream",
          "name": "stdout",
          "text": [
            "[0, 6]\n"
          ]
        }
      ]
    },
    {
      "cell_type": "markdown",
      "source": [
        "<aside>\n",
        "💡 **Question 7**\n",
        "\n",
        "Given an encoded string, return its decoded string.\n",
        "\n",
        "The encoding rule is: k[encoded_string], where the encoded_string inside the square brackets is being repeated exactly k times. Note that k is guaranteed to be a positive integer.\n",
        "\n",
        "You may assume that the input string is always valid; there are no extra white spaces, square brackets are well-formed, etc. Furthermore, you may assume that the original data does not contain any digits and that digits are only for those repeat numbers, k. For example, there will not be input like 3a or 2[4].\n",
        "\n",
        "The test cases are generated so that the length of the output will never exceed 105.\n",
        "\n",
        "**Example 1:**\n",
        "\n",
        "**Input:** s = \"3[a]2[bc]\"\n",
        "\n",
        "**Output:** \"aaabcbc\"\n",
        "\n",
        "</aside>"
      ],
      "metadata": {
        "id": "dWgZcijPnOrx"
      }
    },
    {
      "cell_type": "code",
      "source": [
        "def decodeString(s):\n",
        "    def helper(i):\n",
        "        res = \"\"\n",
        "        num = 0\n",
        "\n",
        "        while i < len(s):\n",
        "            if s[i].isdigit():\n",
        "                num = num * 10 + int(s[i])\n",
        "            elif s[i] == \"[\":\n",
        "                i, sub_res = helper(i + 1)\n",
        "                res += num * sub_res\n",
        "                num = 0\n",
        "            elif s[i] == \"]\":\n",
        "                return i, res\n",
        "            else:\n",
        "                res += s[i]\n",
        "\n",
        "            i += 1\n",
        "\n",
        "        return res\n",
        "\n",
        "    return helper(0)\n",
        "\n",
        "\n",
        "# Example usage:\n",
        "s = \"3[a]2[bc]\"  # Example input string\n",
        "decoded_string = decodeString(s)\n",
        "print(decoded_string)\n"
      ],
      "metadata": {
        "colab": {
          "base_uri": "https://localhost:8080/"
        },
        "id": "k3UAV9dHnMtk",
        "outputId": "9e90e29c-c01a-4c20-9445-8b8f5992bb1a"
      },
      "execution_count": 15,
      "outputs": [
        {
          "output_type": "stream",
          "name": "stdout",
          "text": [
            "aaabcbc\n"
          ]
        }
      ]
    },
    {
      "cell_type": "markdown",
      "source": [
        "<aside>\n",
        "💡 **Question 8**\n",
        "\n",
        "Given two strings s and goal, return true *if you can swap two letters in* s *so the result is equal to* goal*, otherwise, return* false*.*\n",
        "\n",
        "Swapping letters is defined as taking two indices i and j (0-indexed) such that i != j and swapping the characters at s[i] and s[j].\n",
        "\n",
        "- For example, swapping at indices 0 and 2 in \"abcd\" results in \"cbad\".\n",
        "\n",
        "**Example 1:**\n",
        "\n",
        "**Input:** s = \"ab\", goal = \"ba\"\n",
        "\n",
        "**Output:** true\n",
        "\n",
        "**Explanation:** You can swap s[0] = 'a' and s[1] = 'b' to get \"ba\", which is equal to goal.\n",
        "\n",
        "</aside>"
      ],
      "metadata": {
        "id": "4HtAWEedndsg"
      }
    },
    {
      "cell_type": "code",
      "source": [
        "def buddyStrings(s, goal):\n",
        "    if len(s) != len(goal):\n",
        "        return False\n",
        "\n",
        "    if s == goal:\n",
        "        # Check if there are at least two identical characters in s\n",
        "        seen = set()\n",
        "        for char in s:\n",
        "            if char in seen:\n",
        "                return True\n",
        "            seen.add(char)\n",
        "        return False\n",
        "\n",
        "    pairs = []\n",
        "    for i in range(len(s)):\n",
        "        if s[i] != goal[i]:\n",
        "            pairs.append((s[i], goal[i]))\n",
        "\n",
        "    if len(pairs) != 2:\n",
        "        return False\n",
        "\n",
        "    return pairs[0] == pairs[1][::-1]\n",
        "\n",
        "\n",
        "# Example usage:\n",
        "s = \"ab\"  # Example input string s\n",
        "goal = \"ba\"  # Example input string goal\n",
        "result = buddyStrings(s, goal)\n",
        "print(result)\n"
      ],
      "metadata": {
        "colab": {
          "base_uri": "https://localhost:8080/"
        },
        "id": "kR2NLPAjnZAm",
        "outputId": "1de5f656-5721-45a5-8dcd-b82f9fa69a1e"
      },
      "execution_count": 16,
      "outputs": [
        {
          "output_type": "stream",
          "name": "stdout",
          "text": [
            "True\n"
          ]
        }
      ]
    },
    {
      "cell_type": "code",
      "source": [],
      "metadata": {
        "id": "KylQ6fePnf65"
      },
      "execution_count": null,
      "outputs": []
    }
  ]
}