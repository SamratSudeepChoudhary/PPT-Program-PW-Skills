{
  "nbformat": 4,
  "nbformat_minor": 0,
  "metadata": {
    "colab": {
      "provenance": []
    },
    "kernelspec": {
      "name": "python3",
      "display_name": "Python 3"
    },
    "language_info": {
      "name": "python"
    }
  },
  "cells": [
    {
      "cell_type": "code",
      "execution_count": 12,
      "metadata": {
        "id": "BYQbu1I8hwfy"
      },
      "outputs": [],
      "source": [
        "from IPython.core.interactiveshell import InteractiveShell\n",
        "InteractiveShell.ast_node_interactivity = \"all\""
      ]
    },
    {
      "cell_type": "markdown",
      "source": [
        "<aside>\n",
        "💡 **Question 1**\n",
        "\n",
        "Given two strings s and t, *determine if they are isomorphic*.\n",
        "\n",
        "Two strings s and t are isomorphic if the characters in s can be replaced to get t.\n",
        "\n",
        "All occurrences of a character must be replaced with another character while preserving the order of characters. No two characters may map to the same character, but a character may map to itself.\n",
        "\n",
        "**Example 1:**\n",
        "\n",
        "**Input:** s = \"egg\", t = \"add\"\n",
        "\n",
        "**Output:** true\n",
        "\n",
        "</aside>"
      ],
      "metadata": {
        "id": "NX_iucRoh4cN"
      }
    },
    {
      "cell_type": "code",
      "source": [
        "def is_isomorphic(s, t):\n",
        "    if len(s) != len(t):\n",
        "        return False\n",
        "\n",
        "    mapping = {}\n",
        "    mapped_chars = set()\n",
        "\n",
        "    for i in range(len(s)):\n",
        "        char_s = s[i]\n",
        "        char_t = t[i]\n",
        "\n",
        "        if char_s in mapping:\n",
        "            if mapping[char_s] != char_t:\n",
        "                return False\n",
        "        else:\n",
        "            if char_t in mapped_chars:\n",
        "                return False\n",
        "            mapping[char_s] = char_t\n",
        "            mapped_chars.add(char_t)\n",
        "\n",
        "    return True\n",
        "\n",
        "\n",
        "s = \"egg\"\n",
        "t = \"add\"\n",
        "print(is_isomorphic(s, t))  # Output: True\n"
      ],
      "metadata": {
        "colab": {
          "base_uri": "https://localhost:8080/"
        },
        "id": "odMnUBExh9mF",
        "outputId": "7abb9d94-09cc-491e-98ed-244c2491992d"
      },
      "execution_count": 2,
      "outputs": [
        {
          "output_type": "stream",
          "name": "stdout",
          "text": [
            "True\n"
          ]
        }
      ]
    },
    {
      "cell_type": "markdown",
      "source": [
        "<aside>\n",
        "💡 **Question 2**\n",
        "\n",
        "Given a string num which represents an integer, return true *if* num *is a **strobogrammatic number***.\n",
        "\n",
        "A **strobogrammatic number** is a number that looks the same when rotated 180 degrees (looked at upside down).\n",
        "\n",
        "**Example 1:**\n",
        "\n",
        "**Input:** num = \"69\"\n",
        "\n",
        "**Output:**\n",
        "\n",
        "true\n",
        "\n",
        "</aside>"
      ],
      "metadata": {
        "id": "jIWzJghwh5WH"
      }
    },
    {
      "cell_type": "code",
      "source": [
        "def is_strobogrammatic(num):\n",
        "    strobo_digits = {'0': '0', '1': '1', '6': '9', '8': '8', '9': '6'}\n",
        "    n = len(num)\n",
        "    left, right = 0, n - 1\n",
        "\n",
        "    while left <= right:\n",
        "        if num[left] not in strobo_digits or num[right] not in strobo_digits:\n",
        "            return False\n",
        "        if strobo_digits[num[left]] != num[right]:\n",
        "            return False\n",
        "        left += 1\n",
        "        right -= 1\n",
        "\n",
        "    return True\n",
        "\n",
        "\n",
        "num = \"69\"\n",
        "print(is_strobogrammatic(num))  # Output: True\n"
      ],
      "metadata": {
        "colab": {
          "base_uri": "https://localhost:8080/"
        },
        "id": "JUQi7cqLiLvu",
        "outputId": "04fefa9a-6548-4443-d823-c5483a8908b4"
      },
      "execution_count": 3,
      "outputs": [
        {
          "output_type": "stream",
          "name": "stdout",
          "text": [
            "True\n"
          ]
        }
      ]
    },
    {
      "cell_type": "markdown",
      "source": [
        "<aside>\n",
        "💡 **Question 3**\n",
        "\n",
        "Given two non-negative integers, num1 and num2 represented as string, return *the sum of* num1 *and* num2 *as a string*.\n",
        "\n",
        "You must solve the problem without using any built-in library for handling large integers (such as BigInteger). You must also not convert the inputs to integers directly.\n",
        "\n",
        "**Example 1:**\n",
        "\n",
        "**Input:** num1 = \"11\", num2 = \"123\"\n",
        "\n",
        "**Output:**\n",
        "\n",
        "\"134\"\n",
        "\n",
        "</aside>"
      ],
      "metadata": {
        "id": "qOGaJf9ch5ZV"
      }
    },
    {
      "cell_type": "code",
      "source": [
        "def add_strings(num1, num2):\n",
        "    i = len(num1) - 1\n",
        "    j = len(num2) - 1\n",
        "    carry = 0\n",
        "    result = []\n",
        "\n",
        "    while i >= 0 or j >= 0 or carry:\n",
        "        digit1 = int(num1[i]) if i >= 0 else 0\n",
        "        digit2 = int(num2[j]) if j >= 0 else 0\n",
        "\n",
        "        digit_sum = digit1 + digit2 + carry\n",
        "        carry = digit_sum // 10\n",
        "        digit_sum %= 10\n",
        "\n",
        "        result.append(str(digit_sum))\n",
        "\n",
        "        i -= 1\n",
        "        j -= 1\n",
        "\n",
        "    result.reverse()\n",
        "    return ''.join(result)\n",
        "\n",
        "\n",
        "num1 = \"11\"\n",
        "num2 = \"123\"\n",
        "print(add_strings(num1, num2))  # Output: \"134\"\n"
      ],
      "metadata": {
        "colab": {
          "base_uri": "https://localhost:8080/"
        },
        "id": "wPv-47siiXg4",
        "outputId": "d7e556c7-8907-48db-c687-d3e0f4e7a178"
      },
      "execution_count": 4,
      "outputs": [
        {
          "output_type": "stream",
          "name": "stdout",
          "text": [
            "134\n"
          ]
        }
      ]
    },
    {
      "cell_type": "markdown",
      "source": [
        "<aside>\n",
        "💡 **Question 4**\n",
        "\n",
        "Given a string s, reverse the order of characters in each word within a sentence while still preserving whitespace and initial word order.\n",
        "\n",
        "**Example 1:**\n",
        "\n",
        "**Input:** s = \"Let's take LeetCode contest\"\n",
        "\n",
        "**Output:** \"s'teL ekat edoCteeL tsetnoc\"\n",
        "\n",
        "</aside>"
      ],
      "metadata": {
        "id": "ry6n4Hv_h5dW"
      }
    },
    {
      "cell_type": "code",
      "source": [
        "def reverse_words(s):\n",
        "    words = s.split()  # Split the sentence into words\n",
        "    reversed_words = [word[::-1] for word in words]  # Reverse each word\n",
        "    return ' '.join(reversed_words)  # Join the reversed words with whitespace\n",
        "\n",
        "\n",
        "s = \"Let's take LeetCode contest\"\n",
        "print(reverse_words(s))  # Output: \"s'teL ekat edoCteeL tsetnoc\"\n"
      ],
      "metadata": {
        "colab": {
          "base_uri": "https://localhost:8080/"
        },
        "id": "xIUbBDiBiiT1",
        "outputId": "c32b5170-df76-41c6-aed7-1cdb76239c68"
      },
      "execution_count": 6,
      "outputs": [
        {
          "output_type": "stream",
          "name": "stdout",
          "text": [
            "s'teL ekat edoCteeL tsetnoc\n"
          ]
        }
      ]
    },
    {
      "cell_type": "markdown",
      "source": [
        "<aside>\n",
        "💡 **Question 5**\n",
        "\n",
        "Given a string s and an integer k, reverse the first k characters for every 2k characters counting from the start of the string.\n",
        "\n",
        "If there are fewer than k characters left, reverse all of them. If there are less than 2k but greater than or equal to k characters, then reverse the first k characters and leave the other as original.\n",
        "\n",
        "**Example 1:**\n",
        "\n",
        "**Input:** s = \"abcdefg\", k = 2\n",
        "\n",
        "**Output:**\n",
        "\n",
        "\"bacdfeg\"\n",
        "\n",
        "</aside>"
      ],
      "metadata": {
        "id": "optChU_Sh5hI"
      }
    },
    {
      "cell_type": "code",
      "source": [
        "def reverse_str(s, k):\n",
        "    result = ''\n",
        "    for i in range(0, len(s), 2*k):\n",
        "        chunk = s[i:i+k]\n",
        "        reversed_chunk = chunk[::-1]\n",
        "        result += reversed_chunk + s[i+k:i+2*k]\n",
        "    return result\n",
        "\n",
        "\n",
        "s = \"abcdefg\"\n",
        "k = 2\n",
        "print(reverse_str(s, k))  # Output: \"bacdfeg\"\n"
      ],
      "metadata": {
        "colab": {
          "base_uri": "https://localhost:8080/"
        },
        "id": "sov4cvWXisuM",
        "outputId": "fd2842a6-7015-4b95-bddd-de17a7f6fbc8"
      },
      "execution_count": 7,
      "outputs": [
        {
          "output_type": "stream",
          "name": "stdout",
          "text": [
            "bacdfeg\n"
          ]
        }
      ]
    },
    {
      "cell_type": "markdown",
      "source": [
        "<aside>\n",
        "💡 **Question 6**\n",
        "\n",
        "Given two strings s and goal, return true *if and only if* s *can become* goal *after some number of **shifts** on* s.\n",
        "\n",
        "A **shift** on s consists of moving the leftmost character of s to the rightmost position.\n",
        "\n",
        "- For example, if s = \"abcde\", then it will be \"bcdea\" after one shift.\n",
        "\n",
        "**Example 1:**\n",
        "\n",
        "**Input:** s = \"abcde\", goal = \"cdeab\"\n",
        "\n",
        "**Output:**\n",
        "\n",
        "true\n",
        "\n",
        "</aside>"
      ],
      "metadata": {
        "id": "ndHc4z5dh5ka"
      }
    },
    {
      "cell_type": "code",
      "source": [
        "def can_shift(s, goal):\n",
        "    if len(s) != len(goal):\n",
        "        return False\n",
        "    return goal in (s + s)\n",
        "\n",
        "\n",
        "s = \"abcde\"\n",
        "goal = \"cdeab\"\n",
        "print(can_shift(s, goal))  # Output: True\n"
      ],
      "metadata": {
        "colab": {
          "base_uri": "https://localhost:8080/"
        },
        "id": "pqqxJ9Zvi17o",
        "outputId": "ff5bf8e5-f3b3-4f34-b07f-a4e196941149"
      },
      "execution_count": 8,
      "outputs": [
        {
          "output_type": "stream",
          "name": "stdout",
          "text": [
            "True\n"
          ]
        }
      ]
    },
    {
      "cell_type": "markdown",
      "source": [
        "<aside>\n",
        "💡 **Question 7**\n",
        "\n",
        "Given two strings s and t, return true *if they are equal when both are typed into empty text editors*. '#' means a backspace character.\n",
        "\n",
        "Note that after backspacing an empty text, the text will continue empty.\n",
        "\n",
        "**Example 1:**\n",
        "\n",
        "**Input:** s = \"ab#c\", t = \"ad#c\"\n",
        "\n",
        "**Output:** true\n",
        "\n",
        "**Explanation:**\n",
        "\n",
        "Both s and t become \"ac\".\n",
        "\n",
        "</aside>"
      ],
      "metadata": {
        "id": "f_A3T1mWh5n0"
      }
    },
    {
      "cell_type": "code",
      "source": [
        "def backspace_compare(s, t):\n",
        "    def process_string(string):\n",
        "        stack = []\n",
        "        for char in string:\n",
        "            if char != '#':\n",
        "                stack.append(char)\n",
        "            elif stack:\n",
        "                stack.pop()\n",
        "        return ''.join(stack)\n",
        "\n",
        "    return process_string(s) == process_string(t)\n",
        "\n",
        "\n",
        "s = \"ab#c\"\n",
        "t = \"ad#c\"\n",
        "print(backspace_compare(s, t))  # Output: True"
      ],
      "metadata": {
        "colab": {
          "base_uri": "https://localhost:8080/"
        },
        "id": "oSlmesVBi99r",
        "outputId": "eddd7d37-c3ca-48ef-cd54-d128701a83f7"
      },
      "execution_count": 9,
      "outputs": [
        {
          "output_type": "stream",
          "name": "stdout",
          "text": [
            "True\n"
          ]
        }
      ]
    },
    {
      "cell_type": "markdown",
      "source": [
        "<aside>\n",
        "💡 **Question 8**\n",
        "\n",
        "You are given an array coordinates, coordinates[i] = [x, y], where [x, y] represents the coordinate of a point. Check if these points make a straight line in the XY plane.\n",
        "\n",
        "**Input:** coordinates = [[1,2],[2,3],[3,4],[4,5],[5,6],[6,7]]\n",
        "\n",
        "**Output:** true\n",
        "</aside>"
      ],
      "metadata": {
        "id": "GxhM63VKh5rc"
      }
    },
    {
      "cell_type": "code",
      "source": [
        "def check_straight_line(coordinates):\n",
        "    x1, y1 = coordinates[0]\n",
        "    x2, y2 = coordinates[1]\n",
        "    initial_slope = (y2 - y1) / (x2 - x1)\n",
        "\n",
        "    for i in range(2, len(coordinates)):\n",
        "        x, y = coordinates[i]\n",
        "        slope = (y - y1) / (x - x1)\n",
        "        if slope != initial_slope:\n",
        "            return False\n",
        "\n",
        "    return True\n",
        "\n",
        "coordinates = [[1, 2], [2, 3], [3, 4], [4, 5], [5, 6], [6, 7]]\n",
        "print(check_straight_line(coordinates))  # Output: True\n"
      ],
      "metadata": {
        "colab": {
          "base_uri": "https://localhost:8080/"
        },
        "id": "toO8xjGmh1At",
        "outputId": "bbd30326-3c62-4e02-80f0-75fa6c9219de"
      },
      "execution_count": 11,
      "outputs": [
        {
          "output_type": "stream",
          "name": "stdout",
          "text": [
            "True\n"
          ]
        }
      ]
    },
    {
      "cell_type": "code",
      "source": [],
      "metadata": {
        "id": "i11GDsZzjUh8"
      },
      "execution_count": null,
      "outputs": []
    }
  ]
}