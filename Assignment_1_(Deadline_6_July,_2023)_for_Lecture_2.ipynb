{
  "nbformat": 4,
  "nbformat_minor": 0,
  "metadata": {
    "colab": {
      "provenance": []
    },
    "kernelspec": {
      "name": "python3",
      "display_name": "Python 3"
    },
    "language_info": {
      "name": "python"
    }
  },
  "cells": [
    {
      "cell_type": "code",
      "execution_count": 1,
      "metadata": {
        "colab": {
          "base_uri": "https://localhost:8080/"
        },
        "id": "3xYNfY4CjYqR",
        "outputId": "4362fdfe-c4b0-4e15-e500-c810b37dbe57"
      },
      "outputs": [
        {
          "output_type": "stream",
          "name": "stdout",
          "text": [
            "!dlroW ,olleH\n"
          ]
        }
      ],
      "source": [
        "def reverse_string(string):\n",
        "    reversed_string = \"\"\n",
        "    for i in range(len(string) - 1, -1, -1):\n",
        "        reversed_string += string[i]\n",
        "    return reversed_string\n",
        "\n",
        "# Example usage\n",
        "input_string = \"Hello, World!\"\n",
        "reversed_string = reverse_string(input_string)\n",
        "print(reversed_string)\n"
      ]
    },
    {
      "cell_type": "code",
      "source": [
        "def is_palindrome(string):\n",
        "    reversed_string = reverse_string(string)\n",
        "    if string == reversed_string:\n",
        "        return True\n",
        "    else:\n",
        "        return False\n",
        "\n",
        "# Example usage\n",
        "input_string = \"radar\"\n",
        "if is_palindrome(input_string):\n",
        "    print(\"The string is a palindrome.\")\n",
        "else:\n",
        "    print(\"The string is not a palindrome.\")\n"
      ],
      "metadata": {
        "colab": {
          "base_uri": "https://localhost:8080/"
        },
        "id": "84vS1PC0jsNH",
        "outputId": "8fed80e1-16e6-43dd-cde3-a939fb6c2053"
      },
      "execution_count": 2,
      "outputs": [
        {
          "output_type": "stream",
          "name": "stdout",
          "text": [
            "The string is a palindrome.\n"
          ]
        }
      ]
    },
    {
      "cell_type": "code",
      "source": [
        "def find_largest_element(lst):\n",
        "    largest = lst[0]\n",
        "    for num in lst:\n",
        "        if num > largest:\n",
        "            largest = num\n",
        "    return largest\n",
        "\n",
        "# Example usage\n",
        "numbers = [45, 67, 12, 89, 34, 99]\n",
        "largest_number = find_largest_element(numbers)\n",
        "print(\"The largest number in the list is:\", largest_number)\n"
      ],
      "metadata": {
        "colab": {
          "base_uri": "https://localhost:8080/"
        },
        "id": "hSCYQQQYjt4k",
        "outputId": "58e4a425-9cb6-40f0-cc28-460f8cbaec6f"
      },
      "execution_count": 3,
      "outputs": [
        {
          "output_type": "stream",
          "name": "stdout",
          "text": [
            "The largest number in the list is: 99\n"
          ]
        }
      ]
    },
    {
      "cell_type": "code",
      "source": [
        "def count_occurrences(lst):\n",
        "    occurrences = {}\n",
        "    for element in lst:\n",
        "        if element in occurrences:\n",
        "            occurrences[element] += 1\n",
        "        else:\n",
        "            occurrences[element] = 1\n",
        "    return occurrences\n",
        "\n",
        "# Example usage\n",
        "numbers = [1, 2, 3, 2, 1, 3, 4, 2, 1]\n",
        "occurrences = count_occurrences(numbers)\n",
        "print(\"Number of occurrences:\", occurrences)\n"
      ],
      "metadata": {
        "colab": {
          "base_uri": "https://localhost:8080/"
        },
        "id": "MvNXtyQFjv6Y",
        "outputId": "d53e1f88-d173-4b0c-9034-143ce263ea8a"
      },
      "execution_count": 4,
      "outputs": [
        {
          "output_type": "stream",
          "name": "stdout",
          "text": [
            "Number of occurrences: {1: 3, 2: 3, 3: 2, 4: 1}\n"
          ]
        }
      ]
    },
    {
      "cell_type": "code",
      "source": [
        "def find_second_largest(lst):\n",
        "    largest = max(lst[0], lst[1])\n",
        "    second_largest = min(lst[0], lst[1])\n",
        "    for i in range(2, len(lst)):\n",
        "        if lst[i] > largest:\n",
        "            second_largest = largest\n",
        "            largest = lst[i]\n",
        "        elif lst[i] > second_largest:\n",
        "            second_largest = lst[i]\n",
        "    return second_largest\n",
        "\n",
        "# Example usage\n",
        "numbers = [5, 12, 45, 87, 26, 9, 34]\n",
        "second_largest = find_second_largest(numbers)\n",
        "print(\"The second largest number in the list is:\", second_largest)\n"
      ],
      "metadata": {
        "colab": {
          "base_uri": "https://localhost:8080/"
        },
        "id": "ZIngTXbSjyXk",
        "outputId": "5519558f-f4ca-4d14-f97f-b14951388e86"
      },
      "execution_count": 5,
      "outputs": [
        {
          "output_type": "stream",
          "name": "stdout",
          "text": [
            "The second largest number in the list is: 45\n"
          ]
        }
      ]
    },
    {
      "cell_type": "code",
      "source": [
        "def remove_duplicates(lst):\n",
        "    return list(set(lst))\n",
        "\n",
        "# Example usage\n",
        "numbers = [1, 2, 3, 2, 1, 3, 4, 2, 1]\n",
        "unique_numbers = remove_duplicates(numbers)\n",
        "print(\"List with duplicates removed:\", unique_numbers)\n"
      ],
      "metadata": {
        "colab": {
          "base_uri": "https://localhost:8080/"
        },
        "id": "rq1sPwBXj06d",
        "outputId": "f9b3d0fa-ce9b-4fab-8d15-ee44e57777cc"
      },
      "execution_count": 6,
      "outputs": [
        {
          "output_type": "stream",
          "name": "stdout",
          "text": [
            "List with duplicates removed: [1, 2, 3, 4]\n"
          ]
        }
      ]
    },
    {
      "cell_type": "code",
      "source": [
        "def factorial(n):\n",
        "    if n == 0:\n",
        "        return 1\n",
        "    else:\n",
        "        return n * factorial(n - 1)\n",
        "\n",
        "# Example usage\n",
        "number = 5\n",
        "factorial_result = factorial(number)\n",
        "print(\"Factorial of\", number, \"is\", factorial_result)\n"
      ],
      "metadata": {
        "colab": {
          "base_uri": "https://localhost:8080/"
        },
        "id": "63wGxIZPj26T",
        "outputId": "f4def00b-add6-4b6c-ee1e-0605c0597fc7"
      },
      "execution_count": 7,
      "outputs": [
        {
          "output_type": "stream",
          "name": "stdout",
          "text": [
            "Factorial of 5 is 120\n"
          ]
        }
      ]
    },
    {
      "cell_type": "code",
      "source": [
        "def is_prime(num):\n",
        "    if num < 2:\n",
        "        return False\n",
        "    for i in range(2, int(num ** 0.5) + 1):\n",
        "        if num % i == 0:\n",
        "            return False\n",
        "    return True\n",
        "\n",
        "# Test\n",
        "num = 17\n",
        "if is_prime(num):\n",
        "    print(\"Prime\")\n",
        "else:\n",
        "    print(\"Not a prime\")\n"
      ],
      "metadata": {
        "colab": {
          "base_uri": "https://localhost:8080/"
        },
        "id": "UdjB9_U0j6Tm",
        "outputId": "266fa240-59f0-403c-f758-58da52bb2b53"
      },
      "execution_count": 8,
      "outputs": [
        {
          "output_type": "stream",
          "name": "stdout",
          "text": [
            "Prime\n"
          ]
        }
      ]
    },
    {
      "cell_type": "code",
      "source": [
        "def ascending_sort(lst):\n",
        "    return sorted(lst)\n",
        "\n",
        "# Test\n",
        "input_list = [12, 45, 67, 23, 9, 56]\n",
        "sorted_list = ascending_sort(input_list)\n",
        "print(sorted_list)\n"
      ],
      "metadata": {
        "colab": {
          "base_uri": "https://localhost:8080/"
        },
        "id": "BaAW-FAhkbjs",
        "outputId": "3353bf01-ec8c-4f8c-b904-7f158b770878"
      },
      "execution_count": 9,
      "outputs": [
        {
          "output_type": "stream",
          "name": "stdout",
          "text": [
            "[9, 12, 23, 45, 56, 67]\n"
          ]
        }
      ]
    },
    {
      "cell_type": "code",
      "source": [
        "def find_sum(lst):\n",
        "    return sum(lst)\n",
        "\n",
        "# Test\n",
        "input_list =[1, 2, 3, 4, 5]\n",
        "sum_of_numbers = find_sum(input_list)\n",
        "print(sum_of_numbers)\n"
      ],
      "metadata": {
        "colab": {
          "base_uri": "https://localhost:8080/"
        },
        "id": "F2FMa9_vkgQV",
        "outputId": "78caa45b-3cea-48b1-9629-a5f1c0b35900"
      },
      "execution_count": 10,
      "outputs": [
        {
          "output_type": "stream",
          "name": "stdout",
          "text": [
            "15\n"
          ]
        }
      ]
    },
    {
      "cell_type": "code",
      "source": [
        "def find_common_elements(list1, list2):\n",
        "    return list(set(list1) & set(list2))\n",
        "\n",
        "# Test\n",
        "list1 = [1, 2, 3, 4, 5]\n",
        "list2 = [4, 5, 6, 7, 8]\n",
        "common_elements = find_common_elements(list1, list2)\n",
        "print(common_elements)\n"
      ],
      "metadata": {
        "colab": {
          "base_uri": "https://localhost:8080/"
        },
        "id": "nnyx80_UkiVt",
        "outputId": "8ad2f82e-78d8-4504-f44f-db345decba07"
      },
      "execution_count": 11,
      "outputs": [
        {
          "output_type": "stream",
          "name": "stdout",
          "text": [
            "[4, 5]\n"
          ]
        }
      ]
    },
    {
      "cell_type": "code",
      "source": [
        "def is_anagram(str1, str2):\n",
        "    return sorted(str1) == sorted(str2)\n",
        "\n",
        "# Test\n",
        "string1 = \"listen\"\n",
        "string2 = \"silent\"\n",
        "if is_anagram(string1, string2):\n",
        "    print(\"Anagrams\")\n",
        "else:\n",
        "    print(\"Not anagrams\")\n"
      ],
      "metadata": {
        "colab": {
          "base_uri": "https://localhost:8080/"
        },
        "id": "zHmMaDVhkqIn",
        "outputId": "69543713-c360-4c9a-aaba-85cb2b97266b"
      },
      "execution_count": 12,
      "outputs": [
        {
          "output_type": "stream",
          "name": "stdout",
          "text": [
            "Anagrams\n"
          ]
        }
      ]
    },
    {
      "cell_type": "code",
      "source": [
        "import itertools\n",
        "\n",
        "def generate_permutations(s):\n",
        "    permutations = [''.join(p) for p in itertools.permutations(s)]\n",
        "    return permutations\n",
        "\n",
        "# Test\n",
        "string = \"abc\"\n",
        "permutations = generate_permutations(string)\n",
        "print(permutations)\n"
      ],
      "metadata": {
        "colab": {
          "base_uri": "https://localhost:8080/"
        },
        "id": "pn3DqBdzksLb",
        "outputId": "4e3966a8-e0e1-481f-de5c-ae025077a87a"
      },
      "execution_count": 13,
      "outputs": [
        {
          "output_type": "stream",
          "name": "stdout",
          "text": [
            "['abc', 'acb', 'bac', 'bca', 'cab', 'cba']\n"
          ]
        }
      ]
    },
    {
      "cell_type": "code",
      "source": [
        "def fibonacci_sequence(n):\n",
        "    sequence = [0, 1]\n",
        "    while len(sequence) < n:\n",
        "        next_number = sequence[-1] + sequence[-2]\n",
        "        sequence.append(next_number)\n",
        "    return sequence\n",
        "\n",
        "# Test\n",
        "num_terms = 10\n",
        "fib_sequence = fibonacci_sequence(num_terms)\n",
        "print(fib_sequence)\n",
        "\n"
      ],
      "metadata": {
        "colab": {
          "base_uri": "https://localhost:8080/"
        },
        "id": "Nk_EhSkikuVK",
        "outputId": "08ca8cc8-496a-416c-9aed-32b5e843899a"
      },
      "execution_count": 14,
      "outputs": [
        {
          "output_type": "stream",
          "name": "stdout",
          "text": [
            "[0, 1, 1, 2, 3, 5, 8, 13, 21, 34]\n"
          ]
        }
      ]
    },
    {
      "cell_type": "code",
      "source": [
        "import statistics\n",
        "\n",
        "def find_median(lst):\n",
        "    return statistics.median(lst)\n",
        "\n",
        "# Test\n",
        "numbers = [12, 45, 67, 23, 9, 56]\n",
        "median = find_median(numbers)\n",
        "print(median)\n"
      ],
      "metadata": {
        "colab": {
          "base_uri": "https://localhost:8080/"
        },
        "id": "8bw0F8K-kyVE",
        "outputId": "75de6309-cbe4-4453-814e-e568eabd60cb"
      },
      "execution_count": 15,
      "outputs": [
        {
          "output_type": "stream",
          "name": "stdout",
          "text": [
            "34.0\n"
          ]
        }
      ]
    },
    {
      "cell_type": "code",
      "source": [
        "def is_sorted(lst):\n",
        "    return all(lst[i] <= lst[i + 1] for i in range(len(lst) - 1))\n",
        "\n",
        "# Test\n",
        "list1 = [1, 2, 3, 4, 5]\n",
        "if is_sorted(list1):\n",
        "    print(\"Sorted\")\n",
        "else:\n",
        "    print(\"Not sorted\")\n"
      ],
      "metadata": {
        "colab": {
          "base_uri": "https://localhost:8080/"
        },
        "id": "zwkQNaxekzC1",
        "outputId": "3a1e5c62-b106-4cd6-8740-f2c190b6ba17"
      },
      "execution_count": 16,
      "outputs": [
        {
          "output_type": "stream",
          "name": "stdout",
          "text": [
            "Sorted\n"
          ]
        }
      ]
    },
    {
      "cell_type": "code",
      "source": [
        "def find_intersection(list1, list2):\n",
        "    return list(set(list1) & set(list2))\n",
        "\n",
        "# Test\n",
        "list1 = [1, 2, 3, 4, 5]\n",
        "list2 = [4, 5, 6, 7, 8]\n",
        "intersection = find_intersection(list1, list2)\n",
        "print(intersection)\n"
      ],
      "metadata": {
        "colab": {
          "base_uri": "https://localhost:8080/"
        },
        "id": "NvFZmKxWk1Iw",
        "outputId": "2f2df79b-3d85-4364-dbb3-a6413e00674c"
      },
      "execution_count": 17,
      "outputs": [
        {
          "output_type": "stream",
          "name": "stdout",
          "text": [
            "[4, 5]\n"
          ]
        }
      ]
    },
    {
      "cell_type": "code",
      "source": [
        "def find_maximum_subarray_sum(lst):\n",
        "    max_sum = float('-inf')\n",
        "    current_sum = 0\n",
        "    for num in lst:\n",
        "        current_sum = max(num, current_sum + num)\n",
        "        max_sum = max(max_sum, current_sum)\n",
        "    return max_sum\n",
        "\n",
        "# Test\n",
        "numbers = [1, -2, 3, 4, -1, 2, 1, -5, 4]\n",
        "max_subarray_sum = find_maximum_subarray_sum(numbers)\n",
        "print(max_subarray_sum)\n"
      ],
      "metadata": {
        "colab": {
          "base_uri": "https://localhost:8080/"
        },
        "id": "6BXPQHg7k3eL",
        "outputId": "9c0f8e04-ca91-4cf1-d740-791f2a47f5b9"
      },
      "execution_count": 18,
      "outputs": [
        {
          "output_type": "stream",
          "name": "stdout",
          "text": [
            "9\n"
          ]
        }
      ]
    },
    {
      "cell_type": "code",
      "source": [
        "def remove_vowels(s):\n",
        "    vowels = 'aeiouAEIOU'\n",
        "    return ''.join(char for char in s if char not in vowels)\n",
        "\n",
        "# Test\n",
        "string = \"Hello, World!\"\n",
        "string_without_vowels = remove_vowels(string)\n",
        "print(string_without_vowels)\n"
      ],
      "metadata": {
        "colab": {
          "base_uri": "https://localhost:8080/"
        },
        "id": "kwjioiHQk5jB",
        "outputId": "76492736-fe62-4e1a-9dd4-ad0474ee0e3f"
      },
      "execution_count": 19,
      "outputs": [
        {
          "output_type": "stream",
          "name": "stdout",
          "text": [
            "Hll, Wrld!\n"
          ]
        }
      ]
    },
    {
      "cell_type": "code",
      "source": [
        "def reverse_sentence(sentence):\n",
        "    words = sentence.split()\n",
        "    reversed_sentence = ' '.join(words[::-1])\n",
        "    return reversed_sentence\n",
        "\n",
        "# Test\n",
        "sentence = \"Hello, world! This is a sentence.\"\n",
        "reversed_sentence = reverse_sentence(sentence)\n",
        "print(reversed_sentence)\n"
      ],
      "metadata": {
        "colab": {
          "base_uri": "https://localhost:8080/"
        },
        "id": "Yl3h-RYHk7Lw",
        "outputId": "4a2f9765-79e4-44e2-a575-b79b32e6f958"
      },
      "execution_count": 20,
      "outputs": [
        {
          "output_type": "stream",
          "name": "stdout",
          "text": [
            "sentence. a is This world! Hello,\n"
          ]
        }
      ]
    },
    {
      "cell_type": "code",
      "source": [
        "def are_anagrams(str1, str2):\n",
        "    return sorted(str1) == sorted(str2)\n",
        "\n",
        "# Test\n",
        "string1 = \"listen\"\n",
        "string2 = \"silent\"\n",
        "if are_anagrams(string1, string2):\n",
        "    print(\"Anagrams\")\n",
        "else:\n",
        "    print(\"Not anagrams\")\n"
      ],
      "metadata": {
        "colab": {
          "base_uri": "https://localhost:8080/"
        },
        "id": "cBzrR9v1k9kw",
        "outputId": "d76becf3-2fba-47ef-915d-7fd3d8ebbe38"
      },
      "execution_count": 21,
      "outputs": [
        {
          "output_type": "stream",
          "name": "stdout",
          "text": [
            "Anagrams\n"
          ]
        }
      ]
    },
    {
      "cell_type": "code",
      "source": [
        "from collections import Counter\n",
        "\n",
        "def find_first_non_repeating_character(s):\n",
        "    char_count = Counter(s)\n",
        "    for char in s:\n",
        "        if char_count[char] == 1:\n",
        "            return char\n",
        "    return None\n",
        "\n",
        "# Test\n",
        "string = \"abracadabra\"\n",
        "first_non_repeating_char = find_first_non_repeating_character(string)\n",
        "print(first_non_repeating_char)\n"
      ],
      "metadata": {
        "colab": {
          "base_uri": "https://localhost:8080/"
        },
        "id": "MSiReKgllKHC",
        "outputId": "8caa8ee0-48bf-4e25-e834-4117c61d9fbe"
      },
      "execution_count": 22,
      "outputs": [
        {
          "output_type": "stream",
          "name": "stdout",
          "text": [
            "c\n"
          ]
        }
      ]
    },
    {
      "cell_type": "code",
      "source": [
        "def find_prime_factors(num):\n",
        "    factors = []\n",
        "    i = 2\n",
        "    while i * i <= num:\n",
        "        if num % i:\n",
        "            i += 1\n",
        "        else:\n",
        "            num //= i\n",
        "            factors.append(i)\n",
        "    if num > 1:\n",
        "        factors.append(num)\n",
        "    return factors\n",
        "\n",
        "# Test\n",
        "number = 84\n",
        "prime_factors = find_prime_factors(number)\n",
        "print(prime_factors)\n"
      ],
      "metadata": {
        "colab": {
          "base_uri": "https://localhost:8080/"
        },
        "id": "7ImLx09OlMBZ",
        "outputId": "a089c860-2221-43cf-fc1b-0c8351686807"
      },
      "execution_count": 23,
      "outputs": [
        {
          "output_type": "stream",
          "name": "stdout",
          "text": [
            "[2, 2, 3, 7]\n"
          ]
        }
      ]
    },
    {
      "cell_type": "code",
      "source": [
        "def is_power_of_two(num):\n",
        "    return num > 0 and (num & (num - 1)) == 0\n",
        "\n",
        "# Test\n",
        "number = 16\n",
        "if is_power_of_two(number):\n",
        "    print(\"Power of two\")\n",
        "else:\n",
        "    print(\"Not a power of two\")\n"
      ],
      "metadata": {
        "colab": {
          "base_uri": "https://localhost:8080/"
        },
        "id": "t3R8wqablN7K",
        "outputId": "9d19e54c-2319-423d-cedb-04403aec79d1"
      },
      "execution_count": 24,
      "outputs": [
        {
          "output_type": "stream",
          "name": "stdout",
          "text": [
            "Power of two\n"
          ]
        }
      ]
    },
    {
      "cell_type": "code",
      "source": [
        "def merge_sorted_lists(list1, list2):\n",
        "    merged_list = []\n",
        "    i, j = 0, 0\n",
        "    while i < len(list1) and j < len(list2):\n",
        "        if list1[i] < list2[j]:\n",
        "            merged_list.append(list1[i])\n",
        "            i += 1\n",
        "        else:\n",
        "            merged_list.append(list2[j])\n",
        "            j += 1\n",
        "    merged_list.extend(list1[i:])\n",
        "    merged_list.extend(list2[j:])\n",
        "    return merged_list\n",
        "\n",
        "# Test\n",
        "list1 = [1, 3, 5, 7]\n",
        "list2 = [2, 4, 6, 8]\n",
        "merged_list = merge_sorted_lists(list1, list2)\n",
        "print(merged_list)\n"
      ],
      "metadata": {
        "colab": {
          "base_uri": "https://localhost:8080/"
        },
        "id": "RWh3DvfXlQaz",
        "outputId": "4d45a83e-255f-47f5-8b2b-a7221d108a57"
      },
      "execution_count": 25,
      "outputs": [
        {
          "output_type": "stream",
          "name": "stdout",
          "text": [
            "[1, 2, 3, 4, 5, 6, 7, 8]\n"
          ]
        }
      ]
    },
    {
      "cell_type": "code",
      "source": [
        "from collections import Counter\n",
        "\n",
        "def find_mode(lst):\n",
        "    count = Counter(lst)\n",
        "    max_count = max(count.values())\n",
        "    mode = [num for num, freq in count.items() if freq == max_count]\n",
        "    return mode\n",
        "\n",
        "# Test\n",
        "numbers = [1, 2, 3, 2, 1, 2, 3, 4, 5, 4, 4]\n",
        "mode = find_mode(numbers)\n",
        "print(mode)\n"
      ],
      "metadata": {
        "colab": {
          "base_uri": "https://localhost:8080/"
        },
        "id": "CAYIekQhlS0J",
        "outputId": "70a81650-5373-4bbf-e902-b3401e8c7d4c"
      },
      "execution_count": 26,
      "outputs": [
        {
          "output_type": "stream",
          "name": "stdout",
          "text": [
            "[2, 4]\n"
          ]
        }
      ]
    },
    {
      "cell_type": "code",
      "source": [
        "def gcd(a, b):\n",
        "    while b != 0:\n",
        "        a, b = b, a % b\n",
        "    return a\n",
        "\n",
        "# Test\n",
        "num1 = 54\n",
        "num2 = 24\n",
        "result = gcd(num1, num2)\n",
        "print(result)\n"
      ],
      "metadata": {
        "colab": {
          "base_uri": "https://localhost:8080/"
        },
        "id": "r8lYAcv2lVkc",
        "outputId": "a6be3cf1-ac43-4b92-9d86-35d9e52d5af2"
      },
      "execution_count": 27,
      "outputs": [
        {
          "output_type": "stream",
          "name": "stdout",
          "text": [
            "6\n"
          ]
        }
      ]
    },
    {
      "cell_type": "code",
      "source": [
        "def square_root(num):\n",
        "    if num < 0:\n",
        "        return None\n",
        "    guess = num\n",
        "    while abs(guess * guess - num) > 1e-6:\n",
        "        guess = (guess + num / guess) / 2\n",
        "    return guess\n",
        "\n",
        "# Test\n",
        "number = 16\n",
        "result = square_root(number)\n",
        "print(result)\n"
      ],
      "metadata": {
        "colab": {
          "base_uri": "https://localhost:8080/"
        },
        "id": "HNDfRZkmlXck",
        "outputId": "bc87bc31-fa20-40f2-d6e8-1853da61a096"
      },
      "execution_count": 28,
      "outputs": [
        {
          "output_type": "stream",
          "name": "stdout",
          "text": [
            "4.000000000000051\n"
          ]
        }
      ]
    },
    {
      "cell_type": "code",
      "source": [
        "import re\n",
        "\n",
        "def is_valid_palindrome(s):\n",
        "    alphanumeric_string = re.sub('[^a-zA-Z0-9]', '', s)\n",
        "    alphanumeric_string = alphanumeric_string.lower()\n",
        "    return alphanumeric_string == alphanumeric_string[::-1]\n",
        "\n",
        "# Test\n",
        "string = \"A man, a plan, a canal: Panama\"\n",
        "if is_valid_palindrome(string):\n",
        "    print(\"Valid palindrome\")\n",
        "else:\n",
        "    print(\"Not a valid palindrome\")\n"
      ],
      "metadata": {
        "colab": {
          "base_uri": "https://localhost:8080/"
        },
        "id": "Xuc359HClZmF",
        "outputId": "a9999f54-59c2-4b1d-f0c3-e56e4dd67689"
      },
      "execution_count": 29,
      "outputs": [
        {
          "output_type": "stream",
          "name": "stdout",
          "text": [
            "Valid palindrome\n"
          ]
        }
      ]
    },
    {
      "cell_type": "code",
      "source": [
        "def find_minimum(lst):\n",
        "    left, right = 0, len(lst) - 1\n",
        "    while left < right:\n",
        "        mid = left + (right - left) // 2\n",
        "        if lst[mid] > lst[right]:\n",
        "            left = mid + 1\n",
        "        else:\n",
        "            right = mid\n",
        "    return lst[left]\n",
        "\n",
        "# Test\n",
        "numbers = [4, 5, 6, 7, 0, 1, 2]\n",
        "minimum = find_minimum(numbers)\n",
        "print(minimum)\n"
      ],
      "metadata": {
        "colab": {
          "base_uri": "https://localhost:8080/"
        },
        "id": "WQR1bDhKlb5s",
        "outputId": "f86001a6-eb81-479e-cf09-458c76fb3344"
      },
      "execution_count": 30,
      "outputs": [
        {
          "output_type": "stream",
          "name": "stdout",
          "text": [
            "0\n"
          ]
        }
      ]
    },
    {
      "cell_type": "code",
      "source": [
        "def sum_of_evens(lst):\n",
        "    return sum(num for num in lst if num % 2 == 0)\n",
        "\n",
        "# Test\n",
        "numbers = [1, 2, 3, 4, 5, 6, 7, 8, 9, 10]\n",
        "sum_of_evens = sum_of_evens(numbers)\n",
        "print(sum_of_evens)\n"
      ],
      "metadata": {
        "colab": {
          "base_uri": "https://localhost:8080/"
        },
        "id": "4rvxzzX5lfGC",
        "outputId": "2720269c-7b2d-4103-d941-13c4ca25bfe5"
      },
      "execution_count": 31,
      "outputs": [
        {
          "output_type": "stream",
          "name": "stdout",
          "text": [
            "30\n"
          ]
        }
      ]
    },
    {
      "cell_type": "code",
      "source": [
        "def power(base, exponent):\n",
        "    if exponent == 0:\n",
        "        return 1\n",
        "    elif exponent < 0:\n",
        "        return 1 / power(base, -exponent)\n",
        "    else:\n",
        "        return base * power(base, exponent - 1)\n",
        "\n",
        "# Test\n",
        "base = 2\n",
        "exponent = 5\n",
        "result = power(base, exponent)\n",
        "print(result)\n"
      ],
      "metadata": {
        "colab": {
          "base_uri": "https://localhost:8080/"
        },
        "id": "I4BCdQVjlg1m",
        "outputId": "6b026973-20d5-49a5-80b5-bb0e2ff54be0"
      },
      "execution_count": 32,
      "outputs": [
        {
          "output_type": "stream",
          "name": "stdout",
          "text": [
            "32\n"
          ]
        }
      ]
    },
    {
      "cell_type": "code",
      "source": [
        "def remove_duplicates_preserve_order(lst):\n",
        "    seen = set()\n",
        "    return [x for x in lst if not (x in seen or seen.add(x))]\n",
        "\n",
        "# Test\n",
        "numbers = [1, 2, 3, 2, 1, 2, 3, 4, 5, 4, 4]\n",
        "unique_elements = remove_duplicates_preserve_order(numbers)\n",
        "print(unique_elements)\n"
      ],
      "metadata": {
        "colab": {
          "base_uri": "https://localhost:8080/"
        },
        "id": "hCQGsCfpliwG",
        "outputId": "3e729223-1259-40aa-bec8-21d649629a53"
      },
      "execution_count": 33,
      "outputs": [
        {
          "output_type": "stream",
          "name": "stdout",
          "text": [
            "[1, 2, 3, 4, 5]\n"
          ]
        }
      ]
    },
    {
      "cell_type": "code",
      "source": [
        "def longest_common_prefix(strs):\n",
        "    if not strs:\n",
        "        return \"\"\n",
        "    prefix = strs[0]\n",
        "    for s in strs[1:]:\n",
        "        while not s.startswith(prefix):\n",
        "            prefix = prefix[:-1]\n",
        "            if not prefix:\n",
        "                return \"\"\n",
        "    return prefix\n",
        "\n",
        "# Test\n",
        "strings = [\"flower\", \"flow\", \"flight\"]\n",
        "common_prefix = longest_common_prefix(strings)\n",
        "print(common_prefix)\n"
      ],
      "metadata": {
        "colab": {
          "base_uri": "https://localhost:8080/"
        },
        "id": "8DnkNUz6lkpa",
        "outputId": "7298d520-954d-43d1-86b7-71d79be23436"
      },
      "execution_count": 34,
      "outputs": [
        {
          "output_type": "stream",
          "name": "stdout",
          "text": [
            "fl\n"
          ]
        }
      ]
    },
    {
      "cell_type": "code",
      "source": [
        "def is_perfect_square(num):\n",
        "    return num >= 0 and int(num ** 0.5) ** 2 == num\n",
        "\n",
        "# Test\n",
        "number = 16\n",
        "if is_perfect_square(number):\n",
        "    print(\"Perfect square\")\n",
        "else:\n",
        "    print(\"Not a perfect square\")\n"
      ],
      "metadata": {
        "colab": {
          "base_uri": "https://localhost:8080/"
        },
        "id": "uZg7xbU1lmsr",
        "outputId": "a850aa3c-07b1-4d23-ae7f-27323f2cf982"
      },
      "execution_count": 35,
      "outputs": [
        {
          "output_type": "stream",
          "name": "stdout",
          "text": [
            "Perfect square\n"
          ]
        }
      ]
    },
    {
      "cell_type": "code",
      "source": [
        "from functools import reduce\n",
        "import operator\n",
        "\n",
        "def calculate_product(lst):\n",
        "    return reduce(operator.mul, lst, 1)\n",
        "\n",
        "# Test\n",
        "numbers = [1, 2, 3, 4, 5]\n",
        "product = calculate_product(numbers)\n",
        "print(product)\n"
      ],
      "metadata": {
        "colab": {
          "base_uri": "https://localhost:8080/"
        },
        "id": "lC_ISUW0lole",
        "outputId": "1d7b964c-0707-4762-f3f4-9f9ff7ce9750"
      },
      "execution_count": 36,
      "outputs": [
        {
          "output_type": "stream",
          "name": "stdout",
          "text": [
            "120\n"
          ]
        }
      ]
    },
    {
      "cell_type": "code",
      "source": [
        "def reverse_words(sentence):\n",
        "    words = sentence.split()\n",
        "    reversed_words = ' '.join(words[::-1])\n",
        "    return reversed_words\n",
        "\n",
        "# Test\n",
        "sentence = \"Hello, world! This is a sentence.\"\n",
        "reversed_sentence = reverse_words(sentence)\n",
        "print(reversed_sentence)\n"
      ],
      "metadata": {
        "colab": {
          "base_uri": "https://localhost:8080/"
        },
        "id": "oDc5IHDhlqzq",
        "outputId": "936f2ca8-247f-4ddc-a176-9f24ddc77a9f"
      },
      "execution_count": 37,
      "outputs": [
        {
          "output_type": "stream",
          "name": "stdout",
          "text": [
            "sentence. a is This world! Hello,\n"
          ]
        }
      ]
    },
    {
      "cell_type": "code",
      "source": [
        "def find_missing_number(lst):\n",
        "    n = len(lst) + 1\n",
        "    expected_sum = n * (n + 1) // 2\n",
        "    actual_sum = sum(lst)\n",
        "    missing_number = expected_sum - actual_sum\n",
        "    return missing_number\n",
        "\n",
        "# Test\n",
        "numbers = [1, 2, 3, 5, 6, 7, 8, 9, 10]\n",
        "missing_number = find_missing_number(numbers)\n",
        "print(missing_number)\n"
      ],
      "metadata": {
        "colab": {
          "base_uri": "https://localhost:8080/"
        },
        "id": "k0vxP3mLls8-",
        "outputId": "79d88e03-8bad-41bd-832a-710f189b7df1"
      },
      "execution_count": 38,
      "outputs": [
        {
          "output_type": "stream",
          "name": "stdout",
          "text": [
            "4\n"
          ]
        }
      ]
    },
    {
      "cell_type": "code",
      "source": [
        "def sum_of_digits(num):\n",
        "    return sum(int(digit) for digit in str(num))\n",
        "\n",
        "# Test\n",
        "number = 12345\n",
        "digit_sum = sum_of_digits(number)\n",
        "print(digit_sum)\n"
      ],
      "metadata": {
        "colab": {
          "base_uri": "https://localhost:8080/"
        },
        "id": "K6vHK9Cblu3X",
        "outputId": "847d0819-84e0-4f0d-c945-59c7e08d9c3f"
      },
      "execution_count": 39,
      "outputs": [
        {
          "output_type": "stream",
          "name": "stdout",
          "text": [
            "15\n"
          ]
        }
      ]
    },
    {
      "cell_type": "code",
      "source": [
        "def is_valid_palindrome_case_sensitive(s):\n",
        "    return s == s[::-1]\n",
        "\n",
        "# Test\n",
        "string = \"Madam\"\n",
        "if is_valid_palindrome_case_sensitive(string):\n",
        "    print(\"Valid palindrome\")\n",
        "else:\n",
        "    print(\"Not a valid palindrome\")\n"
      ],
      "metadata": {
        "colab": {
          "base_uri": "https://localhost:8080/"
        },
        "id": "PI8f1t56lw7O",
        "outputId": "416ae060-01a2-419b-92f7-008f1dc0b37c"
      },
      "execution_count": 40,
      "outputs": [
        {
          "output_type": "stream",
          "name": "stdout",
          "text": [
            "Not a valid palindrome\n"
          ]
        }
      ]
    },
    {
      "cell_type": "code",
      "source": [
        "def find_smallest_missing_positive(lst):\n",
        "    n = len(lst)\n",
        "    contains_one = False\n",
        "\n",
        "    # Step 1: Mark elements that are out of range or duplicates as 1\n",
        "    for i in range(n):\n",
        "        if lst[i] == 1:\n",
        "            contains_one = True\n",
        "        elif lst[i] <= 0 or lst[i] > n:\n",
        "            lst[i] = 1\n",
        "\n",
        "    # If 1 is not present, return 1\n",
        "    if not contains_one:\n",
        "        return 1\n",
        "\n",
        "    # Step 2: Use the indices to mark presence of elements\n",
        "    for i in range(n):\n",
        "        index = abs(lst[i]) - 1\n",
        "        if lst[index] > 0:\n",
        "            lst[index] = -lst[index]\n",
        "\n",
        "    # Step 3: Find the smallest missing positive integer\n",
        "    for i in range(n):\n",
        "        if lst[i] > 0:\n",
        "            return i + 1\n",
        "\n",
        "    # If all elements are negative, the smallest missing positive is n+1\n",
        "    return n + 1\n",
        "\n",
        "# Test\n",
        "numbers = [3, 4, -1, 1]\n",
        "smallest_missing_positive = find_smallest_missing_positive(numbers)\n",
        "print(smallest_missing_positive)\n"
      ],
      "metadata": {
        "colab": {
          "base_uri": "https://localhost:8080/"
        },
        "id": "MyLKUDLUl3eP",
        "outputId": "daaca858-13e5-4497-a5e9-59bc15668e75"
      },
      "execution_count": 41,
      "outputs": [
        {
          "output_type": "stream",
          "name": "stdout",
          "text": [
            "2\n"
          ]
        }
      ]
    },
    {
      "cell_type": "code",
      "source": [
        "def longest_palindrome_substring(s):\n",
        "    n = len(s)\n",
        "    longest = \"\"\n",
        "\n",
        "    def expand_around_center(left, right):\n",
        "        while left >= 0 and right < n and s[left] == s[right]:\n",
        "            left -= 1\n",
        "            right += 1\n",
        "        return s[left+1:right]\n",
        "\n",
        "    for i in range(n):\n",
        "        palindrome_odd = expand_around_center(i, i)\n",
        "        palindrome_even = expand_around_center(i, i+1)\n",
        "\n",
        "        if len(palindrome_odd) > len(longest):\n",
        "            longest = palindrome_odd\n",
        "        if len(palindrome_even) > len(longest):\n",
        "            longest = palindrome_even\n",
        "\n",
        "    return longest\n",
        "\n",
        "# Test\n",
        "string = \"babad\"\n",
        "longest_palindrome = longest_palindrome_substring(string)\n",
        "print(longest_palindrome)\n"
      ],
      "metadata": {
        "colab": {
          "base_uri": "https://localhost:8080/"
        },
        "id": "a4symbZKl6gW",
        "outputId": "75d51644-7f91-4bc2-f0d5-521c601842f3"
      },
      "execution_count": 42,
      "outputs": [
        {
          "output_type": "stream",
          "name": "stdout",
          "text": [
            "bab\n"
          ]
        }
      ]
    },
    {
      "cell_type": "code",
      "source": [
        "def count_occurrences(lst, element):\n",
        "    return lst.count(element)\n",
        "\n",
        "# Test\n",
        "numbers = [1, 2, 3, 2, 1, 2, 3, 4, 5, 4, 4]\n",
        "count = count_occurrences(numbers, 2)\n",
        "print(count)\n"
      ],
      "metadata": {
        "colab": {
          "base_uri": "https://localhost:8080/"
        },
        "id": "DjGmRmYWmC5M",
        "outputId": "1bbbfcb6-2aec-460a-a0e2-24caf8a16f52"
      },
      "execution_count": 43,
      "outputs": [
        {
          "output_type": "stream",
          "name": "stdout",
          "text": [
            "3\n"
          ]
        }
      ]
    },
    {
      "cell_type": "code",
      "source": [
        "def is_perfect_number(num):\n",
        "    if num <= 0:\n",
        "        return False\n",
        "    divisors_sum = sum(i for i in range(1, num) if num % i == 0)\n",
        "    return divisors_sum == num\n",
        "\n",
        "# Test\n",
        "number = 28\n",
        "if is_perfect_number(number):\n",
        "    print(\"Perfect number\")\n",
        "else:\n",
        "    print(\"Not a perfect number\")\n"
      ],
      "metadata": {
        "colab": {
          "base_uri": "https://localhost:8080/"
        },
        "id": "8kh4KRXPmFeS",
        "outputId": "67692925-1a7d-4ce2-ab6b-eab68b0e363e"
      },
      "execution_count": 44,
      "outputs": [
        {
          "output_type": "stream",
          "name": "stdout",
          "text": [
            "Perfect number\n"
          ]
        }
      ]
    },
    {
      "cell_type": "code",
      "source": [
        "def remove_duplicates_from_string(string):\n",
        "    return ''.join(set(string))\n",
        "\n",
        "# Test\n",
        "string = \"abracadabra\"\n",
        "result = remove_duplicates_from_string(string)\n",
        "print(result)\n"
      ],
      "metadata": {
        "colab": {
          "base_uri": "https://localhost:8080/"
        },
        "id": "PqWLjvJXmHKQ",
        "outputId": "98379482-36b0-41e4-d7e6-f04e0c9c04e6"
      },
      "execution_count": 45,
      "outputs": [
        {
          "output_type": "stream",
          "name": "stdout",
          "text": [
            "cabdr\n"
          ]
        }
      ]
    },
    {
      "cell_type": "code",
      "source": [
        "def find_first_missing_positive(nums):\n",
        "    n = len(nums)\n",
        "\n",
        "    # Step 1: Move non-positive integers to the left side of the array\n",
        "    j = 0\n",
        "    for i in range(n):\n",
        "        if nums[i] <= 0:\n",
        "            nums[i], nums[j] = nums[j], nums[i]\n",
        "            j += 1\n",
        "\n",
        "    # Step 2: Mark presence of positive integers using indices\n",
        "    for i in range(j, n):\n",
        "        num = abs(nums[i])\n",
        "        if num <= n - j:\n",
        "            nums[j + num - 1] = -abs(nums[j + num - 1])\n",
        "\n",
        "    # Step 3: Find the first missing positive\n",
        "    for i in range(j, n):\n",
        "        if nums[i] > 0:\n",
        "            return i - j + 1\n",
        "\n",
        "    return n - j + 1\n",
        "\n",
        "# Test\n",
        "numbers = [3, 4, -1, 1]\n",
        "first_missing_positive = find_first_missing_positive(numbers)\n",
        "print(first_missing_positive)\n"
      ],
      "metadata": {
        "colab": {
          "base_uri": "https://localhost:8080/"
        },
        "id": "vwfg7Q_6mI26",
        "outputId": "e52dfe3d-7921-4bf7-f339-f2454b82039f"
      },
      "execution_count": 46,
      "outputs": [
        {
          "output_type": "stream",
          "name": "stdout",
          "text": [
            "2\n"
          ]
        }
      ]
    },
    {
      "cell_type": "code",
      "source": [],
      "metadata": {
        "id": "PQLq0C-EmK9O"
      },
      "execution_count": null,
      "outputs": []
    }
  ]
}