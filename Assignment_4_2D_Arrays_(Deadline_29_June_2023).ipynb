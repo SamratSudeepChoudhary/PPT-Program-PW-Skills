{
  "nbformat": 4,
  "nbformat_minor": 0,
  "metadata": {
    "colab": {
      "provenance": []
    },
    "kernelspec": {
      "name": "python3",
      "display_name": "Python 3"
    },
    "language_info": {
      "name": "python"
    }
  },
  "cells": [
    {
      "cell_type": "code",
      "execution_count": 1,
      "metadata": {
        "id": "Tj7R1ZzC22if"
      },
      "outputs": [],
      "source": [
        "from IPython.core.interactiveshell import InteractiveShell\n",
        "InteractiveShell.ast_node_interactivity = \"all\""
      ]
    },
    {
      "cell_type": "markdown",
      "source": [
        "<aside>\n",
        "💡 **Question 1**\n",
        "Given three integer arrays arr1, arr2 and arr3 **sorted** in **strictly increasing** order, return a sorted array of **only** the integers that appeared in **all** three arrays.\n",
        "\n",
        "**Example 1:**\n",
        "\n",
        "Input: arr1 = [1,2,3,4,5], arr2 = [1,2,5,7,9], arr3 = [1,3,4,5,8]\n",
        "\n",
        "Output: [1,5]\n",
        "\n",
        "**Explanation:** Only 1 and 5 appeared in the three arrays.\n",
        "\n",
        "</aside>"
      ],
      "metadata": {
        "id": "i2L8wOSn3FR2"
      }
    },
    {
      "cell_type": "code",
      "source": [
        "def commonElements(arr1, arr2, arr3):\n",
        "    p1, p2, p3 = 0, 0, 0\n",
        "    result = []\n",
        "\n",
        "    while p1 < len(arr1) and p2 < len(arr2) and p3 < len(arr3):\n",
        "        if arr1[p1] == arr2[p2] == arr3[p3]:\n",
        "            result.append(arr1[p1])\n",
        "            p1 += 1\n",
        "            p2 += 1\n",
        "            p3 += 1\n",
        "        elif arr1[p1] <= arr2[p2] and arr1[p1] <= arr3[p3]:\n",
        "            p1 += 1\n",
        "        elif arr2[p2] <= arr1[p1] and arr2[p2] <= arr3[p3]:\n",
        "            p2 += 1\n",
        "        elif arr3[p3] <= arr1[p1] and arr3[p3] <= arr2[p2]:\n",
        "            p3 += 1\n",
        "\n",
        "    return result\n",
        "\n",
        "# Test the function\n",
        "arr1 = [1, 2, 3, 4, 5]\n",
        "arr2 = [1, 2, 5, 7, 9]\n",
        "arr3 = [1, 3, 4, 5, 8]\n",
        "result = commonElements(arr1, arr2, arr3)\n",
        "print(\"Output:\", result)\n"
      ],
      "metadata": {
        "colab": {
          "base_uri": "https://localhost:8080/"
        },
        "id": "nn90qt-t2_RC",
        "outputId": "53ef0a5e-844a-4e0e-8148-b1d793eba9da"
      },
      "execution_count": 2,
      "outputs": [
        {
          "output_type": "stream",
          "name": "stdout",
          "text": [
            "Output: [1, 5]\n"
          ]
        }
      ]
    },
    {
      "cell_type": "markdown",
      "source": [
        "<aside>\n",
        "💡 **Question 2**\n",
        "\n",
        "Given two **0-indexed** integer arrays nums1 and nums2, return *a list* answer *of size* 2 *where:*\n",
        "\n",
        "- answer[0] *is a list of all **distinct** integers in* nums1 *which are **not** present in* nums2*.*\n",
        "- answer[1] *is a list of all **distinct** integers in* nums2 *which are **not** present in* nums1.\n",
        "\n",
        "**Note** that the integers in the lists may be returned in **any** order.\n",
        "\n",
        "**Example 1:**\n",
        "\n",
        "**Input:** nums1 = [1,2,3], nums2 = [2,4,6]\n",
        "\n",
        "**Output:** [[1,3],[4,6]]\n",
        "\n",
        "**Explanation:**\n",
        "\n",
        "For nums1, nums1[1] = 2 is present at index 0 of nums2, whereas nums1[0] = 1 and nums1[2] = 3 are not present in nums2. Therefore, answer[0] = [1,3].\n",
        "\n",
        "For nums2, nums2[0] = 2 is present at index 1 of nums1, whereas nums2[1] = 4 and nums2[2] = 6 are not present in nums2. Therefore, answer[1] = [4,6].\n",
        "\n",
        "</aside>"
      ],
      "metadata": {
        "id": "BTKW68Qw3Whl"
      }
    },
    {
      "cell_type": "code",
      "source": [
        "def findDisjoint(nums1, nums2):\n",
        "    set1 = set(nums1)\n",
        "    set2 = set(nums2)\n",
        "\n",
        "    not_in_nums2 = [num for num in set1 if num not in set2]\n",
        "    not_in_nums1 = [num for num in set2 if num not in set1]\n",
        "\n",
        "    return [not_in_nums1, not_in_nums2]\n",
        "\n",
        "# Test the function\n",
        "nums1 = [1, 2, 3]\n",
        "nums2 = [2, 4, 6]\n",
        "result = findDisjoint(nums1, nums2)\n",
        "print(\"Output:\", result)\n"
      ],
      "metadata": {
        "colab": {
          "base_uri": "https://localhost:8080/"
        },
        "id": "n9OgkFH23OuE",
        "outputId": "5738de51-89b6-464a-86f9-f23e6090c88b"
      },
      "execution_count": 3,
      "outputs": [
        {
          "output_type": "stream",
          "name": "stdout",
          "text": [
            "Output: [[4, 6], [1, 3]]\n"
          ]
        }
      ]
    },
    {
      "cell_type": "markdown",
      "source": [
        "<aside>\n",
        "💡 **Question 3**\n",
        "Given a 2D integer array matrix, return *the **transpose** of* matrix.\n",
        "\n",
        "The **transpose** of a matrix is the matrix flipped over its main diagonal, switching the matrix's row and column indices.\n",
        "\n",
        "**Example 1:**\n",
        "\n",
        "Input: matrix = [[1,2,3],[4,5,6],[7,8,9]]\n",
        "\n",
        "Output: [[1,4,7],[2,5,8],[3,6,9]]\n",
        "\n",
        "</aside>"
      ],
      "metadata": {
        "id": "ezFu_XuR3ern"
      }
    },
    {
      "cell_type": "code",
      "source": [
        "def transposeMatrix(matrix):\n",
        "    m = len(matrix)\n",
        "    n = len(matrix[0])\n",
        "\n",
        "    transpose = [[0] * m for _ in range(n)]\n",
        "\n",
        "    for i in range(m):\n",
        "        for j in range(n):\n",
        "            transpose[j][i] = matrix[i][j]\n",
        "\n",
        "    return transpose\n",
        "\n",
        "# Test the function\n",
        "matrix = [[1, 2, 3], [4, 5, 6], [7, 8, 9]]\n",
        "result = transposeMatrix(matrix)\n",
        "print(\"Output:\", result)\n"
      ],
      "metadata": {
        "colab": {
          "base_uri": "https://localhost:8080/"
        },
        "id": "Eud756-p3a5u",
        "outputId": "87b37ae1-cb7f-4a23-9345-18e7d0586977"
      },
      "execution_count": 4,
      "outputs": [
        {
          "output_type": "stream",
          "name": "stdout",
          "text": [
            "Output: [[1, 4, 7], [2, 5, 8], [3, 6, 9]]\n"
          ]
        }
      ]
    },
    {
      "cell_type": "markdown",
      "source": [
        "<aside>\n",
        "💡 **Question 4**\n",
        "Given an integer array nums of 2n integers, group these integers into n pairs (a1, b1), (a2, b2), ..., (an, bn) such that the sum of min(ai, bi) for all i is **maximized**. Return *the maximized sum*.\n",
        "\n",
        "**Example 1:**\n",
        "\n",
        "Input: nums = [1,4,3,2]\n",
        "\n",
        "Output: 4\n",
        "\n",
        "**Explanation:** All possible pairings (ignoring the ordering of elements) are:\n",
        "\n",
        "1. (1, 4), (2, 3) -> min(1, 4) + min(2, 3) = 1 + 2 = 3\n",
        "\n",
        "2. (1, 3), (2, 4) -> min(1, 3) + min(2, 4) = 1 + 2 = 3\n",
        "\n",
        "3. (1, 2), (3, 4) -> min(1, 2) + min(3, 4) = 1 + 3 = 4\n",
        "\n",
        "So the maximum possible sum is 4.\n",
        "\n",
        "</aside>"
      ],
      "metadata": {
        "id": "m7-qOX7J3nh9"
      }
    },
    {
      "cell_type": "code",
      "source": [
        "def arrayPairSum(nums):\n",
        "    nums.sort()  # Sort the array in ascending order\n",
        "    max_sum = 0\n",
        "\n",
        "    for i in range(0, len(nums), 2):\n",
        "        max_sum += nums[i]\n",
        "\n",
        "    return max_sum\n",
        "\n",
        "# Test the function\n",
        "nums = [1, 4, 3, 2]\n",
        "result = arrayPairSum(nums)\n",
        "print(\"Output:\", result)\n"
      ],
      "metadata": {
        "colab": {
          "base_uri": "https://localhost:8080/"
        },
        "id": "wK4ENyDV3iiT",
        "outputId": "5d8bd9fa-45fe-4467-c3b9-2cedf7dd1720"
      },
      "execution_count": 5,
      "outputs": [
        {
          "output_type": "stream",
          "name": "stdout",
          "text": [
            "Output: 4\n"
          ]
        }
      ]
    },
    {
      "cell_type": "markdown",
      "source": [
        "<aside>\n",
        "💡 **Question 5**\n",
        "You have n coins and you want to build a staircase with these coins. The staircase consists of k rows where the ith row has exactly i coins. The last row of the staircase **may be** incomplete.\n",
        "\n",
        "Given the integer n, return *the number of **complete rows** of the staircase you will build*.\n",
        "\n",
        "</aside>"
      ],
      "metadata": {
        "id": "eJfKX85O3uVr"
      }
    },
    {
      "cell_type": "code",
      "source": [
        "def arrangeCoins(n):\n",
        "    k = 0\n",
        "    while (k * (k + 1)) / 2 <= n:\n",
        "        k += 1\n",
        "    k -= 1\n",
        "    return k\n",
        "\n",
        "# Test the function\n",
        "n = 5\n",
        "result = arrangeCoins(n)\n",
        "print(\"Output:\", result)\n"
      ],
      "metadata": {
        "colab": {
          "base_uri": "https://localhost:8080/"
        },
        "id": "EwjgNijV3prC",
        "outputId": "713c5a8d-eae4-44d9-f74f-35448fb47a86"
      },
      "execution_count": 7,
      "outputs": [
        {
          "output_type": "stream",
          "name": "stdout",
          "text": [
            "Output: 2\n"
          ]
        }
      ]
    },
    {
      "cell_type": "markdown",
      "source": [
        "<aside>\n",
        "💡 **Question 6**\n",
        "Given an integer array nums sorted in **non-decreasing** order, return *an array of **the squares of each number** sorted in non-decreasing order*.\n",
        "\n",
        "**Example 1:**\n",
        "\n",
        "Input: nums = [-4,-1,0,3,10]\n",
        "\n",
        "Output: [0,1,9,16,100]\n",
        "\n",
        "**Explanation:** After squaring, the array becomes [16,1,0,9,100].\n",
        "After sorting, it becomes [0,1,9,16,100]\n",
        "\n",
        "</aside>"
      ],
      "metadata": {
        "id": "jPEY7htl36IA"
      }
    },
    {
      "cell_type": "code",
      "source": [
        "def sortedSquares(nums):\n",
        "    n = len(nums)\n",
        "    left = 0\n",
        "    right = n - 1\n",
        "    squared_nums = []\n",
        "\n",
        "    while left <= right:\n",
        "        left_square = nums[left] * nums[left]\n",
        "        right_square = nums[right] * nums[right]\n",
        "\n",
        "        if left_square > right_square:\n",
        "            squared_nums.append(left_square)\n",
        "            left += 1\n",
        "        else:\n",
        "            squared_nums.append(right_square)\n",
        "            right -= 1\n",
        "\n",
        "    for i in range(right, left - 1, -1):\n",
        "        squared_nums.append(nums[i] * nums[i])\n",
        "\n",
        "    squared_nums.reverse()\n",
        "    return squared_nums\n",
        "\n",
        "# Test the function\n",
        "nums = [-4, -1, 0, 3, 10]\n",
        "result = sortedSquares(nums)\n",
        "print(\"Output:\", result)\n"
      ],
      "metadata": {
        "colab": {
          "base_uri": "https://localhost:8080/"
        },
        "id": "-CzTz4qB3xXU",
        "outputId": "856f2af8-1594-4805-a790-cd97b5e86aff"
      },
      "execution_count": 8,
      "outputs": [
        {
          "output_type": "stream",
          "name": "stdout",
          "text": [
            "Output: [0, 1, 9, 16, 100]\n"
          ]
        }
      ]
    },
    {
      "cell_type": "markdown",
      "source": [
        "<aside>\n",
        "💡 **Question 7**\n",
        "You are given an m x n matrix M initialized with all 0's and an array of operations ops, where ops[i] = [ai, bi] means M[x][y] should be incremented by one for all 0 <= x < ai and 0 <= y < bi.\n",
        "\n",
        "Count and return *the number of maximum integers in the matrix after performing all the operations*\n",
        "\n",
        "**Input:** m = 3, n = 3, ops = [[2,2],[3,3]]\n",
        "\n",
        "**Output:** 4\n",
        "\n",
        "**Explanation:** The maximum integer in M is 2, and there are four of it in M. So return 4.\n",
        "</aside>"
      ],
      "metadata": {
        "id": "HUXUR34U4Ioo"
      }
    },
    {
      "cell_type": "code",
      "source": [
        "def maxCount(m, n, ops):\n",
        "    min_row = float('inf')\n",
        "    min_col = float('inf')\n",
        "\n",
        "    for op in ops:\n",
        "        min_row = min(min_row, op[0])\n",
        "        min_col = min(min_col, op[1])\n",
        "\n",
        "    return min_row * min_col\n",
        "\n",
        "# Test the function\n",
        "m = 3\n",
        "n = 3\n",
        "ops = [[2, 2], [3, 3]]\n",
        "result = maxCount(m, n, ops)\n",
        "print(\"Output:\", result)\n"
      ],
      "metadata": {
        "colab": {
          "base_uri": "https://localhost:8080/"
        },
        "id": "FRgfwr_j39su",
        "outputId": "f92102b2-b32a-4bbe-d403-9bd5670eaed6"
      },
      "execution_count": 9,
      "outputs": [
        {
          "output_type": "stream",
          "name": "stdout",
          "text": [
            "Output: 4\n"
          ]
        }
      ]
    },
    {
      "cell_type": "markdown",
      "source": [
        "<aside>\n",
        "💡 **Question 8**\n",
        "\n",
        "Given the array nums consisting of 2n elements in the form [x1,x2,...,xn,y1,y2,...,yn].\n",
        "\n",
        "*Return the array in the form* [x1,y1,x2,y2,...,xn,yn].\n",
        "\n",
        "**Example 1:**\n",
        "\n",
        "**Input:** nums = [2,5,1,3,4,7], n = 3\n",
        "\n",
        "**Output:** [2,3,5,4,1,7]\n",
        "\n",
        "**Explanation:** Since x1=2, x2=5, x3=1, y1=3, y2=4, y3=7 then the answer is [2,3,5,4,1,7].\n",
        "\n",
        "</aside>"
      ],
      "metadata": {
        "id": "QcZAL4874Ybq"
      }
    },
    {
      "cell_type": "code",
      "source": [
        "def shuffle(nums, n):\n",
        "    result = []\n",
        "    for i in range(n):\n",
        "        result.append(nums[i])\n",
        "        result.append(nums[i+n])\n",
        "    return result\n",
        "\n",
        "# Test the function\n",
        "nums = [2, 5, 1, 3, 4, 7]\n",
        "n = 3\n",
        "result = shuffle(nums, n)\n",
        "print(\"Output:\", result)\n"
      ],
      "metadata": {
        "colab": {
          "base_uri": "https://localhost:8080/"
        },
        "id": "lVFq3QHA4UE-",
        "outputId": "35789110-dc28-4028-ea01-087fb2b3bb97"
      },
      "execution_count": 10,
      "outputs": [
        {
          "output_type": "stream",
          "name": "stdout",
          "text": [
            "Output: [2, 3, 5, 4, 1, 7]\n"
          ]
        }
      ]
    },
    {
      "cell_type": "code",
      "source": [],
      "metadata": {
        "id": "qXwS51Am4nyq"
      },
      "execution_count": null,
      "outputs": []
    }
  ]
}